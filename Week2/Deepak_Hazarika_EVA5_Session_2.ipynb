{
  "nbformat": 4,
  "nbformat_minor": 0,
  "metadata": {
    "colab": {
      "name": "Deepak_Hazarika_EVA5 - Session 2.ipynb",
      "provenance": [],
      "collapsed_sections": [],
      "toc_visible": true
    },
    "kernelspec": {
      "name": "python3",
      "display_name": "Python 3"
    },
    "accelerator": "GPU"
  },
  "cells": [
    {
      "cell_type": "markdown",
      "metadata": {
        "id": "thimR4_U4J6t",
        "colab_type": "text"
      },
      "source": [
        "Import the necessary **libraries**"
      ]
    },
    {
      "cell_type": "code",
      "metadata": {
        "id": "0m2JWFliFfKT",
        "colab_type": "code",
        "colab": {}
      },
      "source": [
        "from __future__ import print_function\n",
        "import torch\n",
        "import torch.nn as nn\n",
        "import torch.nn.functional as F\n",
        "import torch.optim as optim\n",
        "from torchvision import datasets, transforms"
      ],
      "execution_count": null,
      "outputs": []
    },
    {
      "cell_type": "markdown",
      "metadata": {
        "id": "76YyvhtnIMAB",
        "colab_type": "text"
      },
      "source": [
        "## Model summary\n",
        "\\begin{array}{ccc}\n",
        "\\text{Layer}&\\text{Input}&\\text{Output}&\\text{Receptive Field}\\\\\n",
        "Conv1&28*28*1&28*28*32&3*3\\\\\n",
        "Conv2&28*28*32&28*28*64&5*5\\\\\n",
        "Pool1&28*28*64&14*14*64&10*10\\\\\n",
        "Conv3&14*14*64&14*14*128&12*12\\\\\n",
        "Conv4&14*14*128&14*14*256&14*14\\\\\n",
        "Pool2&14*14*256&7*7*256&28*28\\\\\n",
        "Conv5&7*7*256&5*5*512&30*30\\\\\n",
        "Conv6&5*5*512&3*3*1024&32*32\\\\\n",
        "Conv7&3*3*1024&1*1*10&34*34\\\\\n",
        "\\end{array}\n",
        "\n",
        "\n",
        "## Optimized model summary\n",
        "\\begin{array}{ccc}\n",
        "\\text{Layer}&\\text{Input}&\\text{Output}&\\text{Receptive Field}\\\\\n",
        "Conv1&28*28*1&28*28*32&3*3\\\\\n",
        "Conv2&28*28*32&28*28*64&5*5\\\\\n",
        "Pool1&28*28*64&14*14*64&10*10\\\\\n",
        "Conv3&14*14*64&14*14*128&12*12\\\\\n",
        "Conv4&14*14*128&14*14*256&14*14\\\\\n",
        "Pool2&14*14*256&7*7*256&28*28\\\\\n",
        "Conv5&7*7*256&5*5*512&30*30\\\\\n",
        "Conv6&5*5*512&3*3*1024&32*32\\\\\n",
        "fc1&3*3*1024&1*1*10&--\\\\\n",
        "\\end{array}"
      ]
    },
    {
      "cell_type": "code",
      "metadata": {
        "id": "h_Cx9q2QFgM7",
        "colab_type": "code",
        "colab": {}
      },
      "source": [
        "class Net(nn.Module):\n",
        "    def __init__(self):\n",
        "        super(Net, self).__init__()\n",
        "        self.conv1 = nn.Conv2d(1, 32, 3, padding=1) \n",
        "        self.conv2 = nn.Conv2d(32, 64, 3, padding=1) \n",
        "        self.pool1 = nn.MaxPool2d(2, 2)\n",
        "        self.conv3 = nn.Conv2d(64, 128, 3, padding=1)\n",
        "        self.conv4 = nn.Conv2d(128, 256, 3, padding=1)\n",
        "        self.pool2 = nn.MaxPool2d(2, 2)\n",
        "        self.conv5 = nn.Conv2d(256, 512, 3)\n",
        "        self.conv6 = nn.Conv2d(512, 1024, 3)\n",
        "        self.conv7 = nn.Conv2d(1024, 10, 3)\n",
        "        self.fc1 = nn.Linear(9216, 10)\n",
        "\n",
        "    def forward(self, x):\n",
        "        x = self.pool1(F.relu(self.conv2(F.relu(self.conv1(x)))))\n",
        "        x = self.pool2(F.relu(self.conv4(F.relu(self.conv3(x)))))\n",
        "        \n",
        "        x = F.relu(self.conv6(F.relu(self.conv5(x))))\n",
        "        \n",
        "        #x = F.relu(self.conv7(x))\n",
        "        x = torch.flatten(x, 1)\n",
        "        #print(\"before 1 \", x.shape)\n",
        "        x = self.fc1(x)\n",
        "\n",
        "        x = x.view(-1, 10)\n",
        "        return F.log_softmax(x)"
      ],
      "execution_count": null,
      "outputs": []
    },
    {
      "cell_type": "markdown",
      "metadata": {
        "id": "x28yCvzybWwJ",
        "colab_type": "text"
      },
      "source": [
        "## summary\n",
        "\n",
        "\\begin{array}{ccc}\n",
        "\\text{Layer}&\\text{calculation}&\\text{No of parameters}\\\\\n",
        "Conv1&3*3*32 + 32(bias)&320\\\\\n",
        "Conv2&3*3*32*64 + 64(bias)&18,496\\\\\n",
        "Conv3&3*3*64*128 + 128(bias)&73,856\\\\\n",
        "Conv4&3*3*128*256 + 256(bias)&295,168\\\\\n",
        "Conv5&3*3*256*512 + 512(bias)&1,180,160\\\\\n",
        "Conv6&3*3*512*1024 + 1024(bias)&4,719,616\\\\\n",
        "Conv7&3*3*1024*10 + 10(bias)&92,170\\\\\n",
        "\\end{array}"
      ]
    },
    {
      "cell_type": "code",
      "metadata": {
        "colab_type": "code",
        "id": "xdydjYTZFyi3",
        "colab": {
          "base_uri": "https://localhost:8080/",
          "height": 486
        },
        "outputId": "52051130-9bae-4408-ea9a-ceeeb895c200"
      },
      "source": [
        "!pip install torchsummary\n",
        "from torchsummary import summary\n",
        "\n",
        "# Check if gpu is available \n",
        "use_cuda = torch.cuda.is_available()\n",
        "device = torch.device(\"cuda\" if use_cuda else \"cpu\")\n",
        "# direct the model to run in GPU\n",
        "model = Net().to(device)\n",
        "# give a summary of the model like output of each layer , number of parameters in each layer\n",
        "summary(model, input_size=(1, 28, 28))"
      ],
      "execution_count": null,
      "outputs": [
        {
          "output_type": "stream",
          "text": [
            "Requirement already satisfied: torchsummary in /usr/local/lib/python3.6/dist-packages (1.5.1)\n",
            "----------------------------------------------------------------\n",
            "        Layer (type)               Output Shape         Param #\n",
            "================================================================\n",
            "            Conv2d-1           [-1, 32, 28, 28]             320\n",
            "            Conv2d-2           [-1, 64, 28, 28]          18,496\n",
            "         MaxPool2d-3           [-1, 64, 14, 14]               0\n",
            "            Conv2d-4          [-1, 128, 14, 14]          73,856\n",
            "            Conv2d-5          [-1, 256, 14, 14]         295,168\n",
            "         MaxPool2d-6            [-1, 256, 7, 7]               0\n",
            "            Conv2d-7            [-1, 512, 5, 5]       1,180,160\n",
            "            Conv2d-8           [-1, 1024, 3, 3]       4,719,616\n",
            "            Linear-9                   [-1, 10]          92,170\n",
            "================================================================\n",
            "Total params: 6,379,786\n",
            "Trainable params: 6,379,786\n",
            "Non-trainable params: 0\n",
            "----------------------------------------------------------------\n",
            "Input size (MB): 0.00\n",
            "Forward/backward pass size (MB): 1.51\n",
            "Params size (MB): 24.34\n",
            "Estimated Total Size (MB): 25.85\n",
            "----------------------------------------------------------------\n"
          ],
          "name": "stdout"
        },
        {
          "output_type": "stream",
          "text": [
            "/usr/local/lib/python3.6/dist-packages/ipykernel_launcher.py:32: UserWarning: Implicit dimension choice for log_softmax has been deprecated. Change the call to include dim=X as an argument.\n"
          ],
          "name": "stderr"
        }
      ]
    },
    {
      "cell_type": "markdown",
      "metadata": {
        "id": "_Z5Dr0iuDM6c",
        "colab_type": "text"
      },
      "source": [
        "### Pre-processing\n",
        "\n",
        "\n",
        "\n",
        "*   Take a batch size of 128\n",
        "*   Call the DataLoader api \n",
        "*   > use the MNIST dataset from pytorch\n",
        "*   > normalize the data - mean = 0.1307 , std = 0.3081\n",
        "*   > shuffle the data \n",
        "\n",
        "\n",
        "\n",
        "\n"
      ]
    },
    {
      "cell_type": "code",
      "metadata": {
        "id": "DqTWLaM5GHgH",
        "colab_type": "code",
        "colab": {}
      },
      "source": [
        "\n",
        "\n",
        "torch.manual_seed(1)\n",
        "batch_size = 128\n",
        "\n",
        "kwargs = {'num_workers': 1, 'pin_memory': True} if use_cuda else {}\n",
        "train_loader = torch.utils.data.DataLoader(\n",
        "    datasets.MNIST('../data', train=True, download=True,\n",
        "                    transform=transforms.Compose([\n",
        "                        transforms.ToTensor(),\n",
        "                        transforms.Normalize((0.1307,), (0.3081,))\n",
        "                    ])),\n",
        "    batch_size=batch_size, shuffle=True, **kwargs)\n",
        "test_loader = torch.utils.data.DataLoader(\n",
        "    datasets.MNIST('../data', train=False, transform=transforms.Compose([\n",
        "                        transforms.ToTensor(),\n",
        "                        transforms.Normalize((0.1307,), (0.3081,))\n",
        "                    ])),\n",
        "    batch_size=batch_size, shuffle=True, **kwargs)\n"
      ],
      "execution_count": null,
      "outputs": []
    },
    {
      "cell_type": "markdown",
      "metadata": {
        "id": "Pr07HgtCLYwh",
        "colab_type": "text"
      },
      "source": [
        "### Function to train \n",
        "\n",
        "*   model -> set the mode to train \n",
        "*   tqdm is used to show progress bar while looping through the train/test dataset\n",
        "*   while looping through each batch of train data and label\n",
        "*   set the device \n",
        "*   set the gradient to zero before doing backpropogation , because pytorch accumulates the gradient on subsequent backward passes. \n",
        "*   train the model on each batch \n",
        "*   get the negative log likelihood loss between the predicted label and the true label\n",
        "*   backpropogate the loss to readjust the parameter weights\n",
        "\n",
        "### Function to test \n",
        "\n",
        "\n",
        "*   model -> set the mode to eval \n",
        "*   disable gradient calculation\n",
        "*   while looping through each batch of test data and label\n",
        "*   set the device \n",
        "*   test the model on each batch \n",
        "*   get the negative log likelihood loss between the predicted label and the true label \n",
        "*   sum the batch loss\n",
        "*   find the number of correct prediction\n",
        "*   measure the accuracy of the model = correct / total number of records\n",
        "\n",
        "\n"
      ]
    },
    {
      "cell_type": "code",
      "metadata": {
        "id": "8fDefDhaFlwH",
        "colab_type": "code",
        "colab": {}
      },
      "source": [
        "from tqdm import tqdm\n",
        "def train(model, device, train_loader, optimizer, epoch):\n",
        "    model.train()\n",
        "    pbar = tqdm(train_loader)\n",
        "    for batch_idx, (data, target) in enumerate(pbar):\n",
        "        data, target = data.to(device), target.to(device)\n",
        "        optimizer.zero_grad()\n",
        "        output = model(data)\n",
        "        \n",
        "        loss = F.nll_loss(output, target)\n",
        "        loss.backward()\n",
        "        optimizer.step()\n",
        "        pbar.set_description(desc= f'loss={loss.item()} batch_id={batch_idx}')\n",
        "\n",
        "\n",
        "def test(model, device, test_loader):\n",
        "    model.eval()\n",
        "    test_loss = 0\n",
        "    correct = 0\n",
        "    with torch.no_grad():\n",
        "        for data, target in test_loader:\n",
        "            data, target = data.to(device), target.to(device)\n",
        "            output = model(data)\n",
        "            test_loss += F.nll_loss(output, target, reduction='sum').item()  # sum up batch loss\n",
        "            pred = output.argmax(dim=1, keepdim=True)  # get the index of the max log-probability\n",
        "            correct += pred.eq(target.view_as(pred)).sum().item()\n",
        "\n",
        "    test_loss /= len(test_loader.dataset)\n",
        "\n",
        "    print('\\nTest set: Average loss: {:.4f}, Accuracy: {}/{} ({:.0f}%)\\n'.format(\n",
        "        test_loss, correct, len(test_loader.dataset),\n",
        "        100. * correct / len(test_loader.dataset)))"
      ],
      "execution_count": null,
      "outputs": []
    },
    {
      "cell_type": "markdown",
      "metadata": {
        "id": "9QGQLNrO5c1i",
        "colab_type": "text"
      },
      "source": [
        "### run the model on the train data and evaluate the model on test data\n",
        "\n",
        "*   Use stochastic gradient descent to backpropogate and upddate the parameters\n",
        "*   for each epoch , train the model and evaluate it performance on test data\n",
        "\n"
      ]
    },
    {
      "cell_type": "code",
      "metadata": {
        "id": "MMWbLWO6FuHb",
        "colab_type": "code",
        "colab": {
          "base_uri": "https://localhost:8080/",
          "height": 355
        },
        "outputId": "5a1b4e83-61f5-49a2-ec8e-b663cf23292f"
      },
      "source": [
        "\n",
        "model = Net().to(device)\n",
        "optimizer = optim.SGD(model.parameters(), lr=0.01, momentum=0.9)\n",
        "\n",
        "for epoch in range(1, 5):\n",
        "    train(model, device, train_loader, optimizer, epoch)\n",
        "    test(model, device, test_loader)"
      ],
      "execution_count": null,
      "outputs": [
        {
          "output_type": "stream",
          "text": [
            "  0%|          | 0/469 [00:00<?, ?it/s]/usr/local/lib/python3.6/dist-packages/ipykernel_launcher.py:32: UserWarning: Implicit dimension choice for log_softmax has been deprecated. Change the call to include dim=X as an argument.\n",
            "loss=0.051111429929733276 batch_id=468: 100%|██████████| 469/469 [00:12<00:00, 36.62it/s]\n",
            "  0%|          | 0/469 [00:00<?, ?it/s]"
          ],
          "name": "stderr"
        },
        {
          "output_type": "stream",
          "text": [
            "\n",
            "Test set: Average loss: 0.0634, Accuracy: 9798/10000 (98%)\n",
            "\n"
          ],
          "name": "stdout"
        },
        {
          "output_type": "stream",
          "text": [
            "loss=0.16430039703845978 batch_id=468: 100%|██████████| 469/469 [00:13<00:00, 35.83it/s]\n",
            "  0%|          | 0/469 [00:00<?, ?it/s]"
          ],
          "name": "stderr"
        },
        {
          "output_type": "stream",
          "text": [
            "\n",
            "Test set: Average loss: 0.0544, Accuracy: 9833/10000 (98%)\n",
            "\n"
          ],
          "name": "stdout"
        },
        {
          "output_type": "stream",
          "text": [
            "loss=0.006575584411621094 batch_id=468: 100%|██████████| 469/469 [00:13<00:00, 35.69it/s]\n",
            "  0%|          | 0/469 [00:00<?, ?it/s]"
          ],
          "name": "stderr"
        },
        {
          "output_type": "stream",
          "text": [
            "\n",
            "Test set: Average loss: 0.0398, Accuracy: 9883/10000 (99%)\n",
            "\n"
          ],
          "name": "stdout"
        },
        {
          "output_type": "stream",
          "text": [
            "loss=0.01566830836236477 batch_id=468: 100%|██████████| 469/469 [00:13<00:00, 35.41it/s]\n"
          ],
          "name": "stderr"
        },
        {
          "output_type": "stream",
          "text": [
            "\n",
            "Test set: Average loss: 0.0284, Accuracy: 9909/10000 (99%)\n",
            "\n"
          ],
          "name": "stdout"
        }
      ]
    }
  ]
}